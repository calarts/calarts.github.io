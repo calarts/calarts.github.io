{
 "metadata": {
  "name": "Helium Lab Stations"
 },
 "nbformat": 3,
 "nbformat_minor": 0,
 "worksheets": [
  {
   "cells": [
    {
     "cell_type": "markdown",
     "metadata": {},
     "source": "## schedule\n1. presentations (4-5:30)\n2. lab (5:30-7)\n\nSince tomorrow's presentations are relevant to our lab let's start with them. We'll get into the lab immediately after. The lab will take at least 90 minutes to complete a full round. \n\nEach of you will join a team of five. Please work out who will be doing each role and how you want to go about each experiment. YOu are welcome to rotate through each role (especially for the experiments involving breath).\n\nPlease pay attention to the audio file naming conventions! The will save us all a lot of grief later. \n\n-Doug\n\n\n# Helium Lab Stations\n\n![Station One](https://dl.dropboxusercontent.com/u/805506/_helium/station_1.png)\n\n![Station Two](https://dl.dropboxusercontent.com/u/805506/_helium/station_2.png)\n\n![Station Three](https://dl.dropboxusercontent.com/u/805506/_helium/station_3.png)\n\n![Station Four](https://dl.dropboxusercontent.com/u/805506/_helium/station_4.png)\n\n![Station Five](https://dl.dropboxusercontent.com/u/805506/_helium/station_5.png)\n"
    },
    {
     "cell_type": "code",
     "collapsed": false,
     "input": "",
     "language": "python",
     "metadata": {},
     "outputs": []
    }
   ],
   "metadata": {}
  }
 ]
}